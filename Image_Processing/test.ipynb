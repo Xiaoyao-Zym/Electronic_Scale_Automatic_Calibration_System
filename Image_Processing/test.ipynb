{
 "cells": [
  {
   "cell_type": "code",
   "execution_count": 33,
   "metadata": {},
   "outputs": [
    {
     "data": {
      "text/plain": [
       "\"['0005301']\""
      ]
     },
     "execution_count": 33,
     "metadata": {},
     "output_type": "execute_result"
    }
   ],
   "source": [
    "from model.DRNet_V8 import DRNet\n",
    "import os\n",
    "import torch\n",
    "from digital_rec import digital_rec\n",
    "rec_weights='./weights/drnet_v3.pt'\n",
    "device = torch.device('cuda' if torch.cuda.is_available() else 'cpu')\n",
    "    \n",
    "rec_model=DRNet(32, 1, 11, 256).to(device)\n",
    "rec_model.load_state_dict(torch.load(rec_weights))\n",
    "image_path=os.path.join('./img_crop/', ('./data_image/test.jpg').split(\"/\")[-1])\n",
    "rec_result= digital_rec(image_path,  rec_model)\n",
    "rec_result"
   ]
  },
  {
   "cell_type": "code",
   "execution_count": 20,
   "metadata": {},
   "outputs": [
    {
     "data": {
      "text/plain": [
       "'0005301'"
      ]
     },
     "execution_count": 20,
     "metadata": {},
     "output_type": "execute_result"
    }
   ],
   "source": [
    "from model.DRNet_V8 import DRNet\n",
    "from torch.utils.data import DataLoader\n",
    "import torch,time\n",
    "from utils.pretreatment import ResizeAndNormalize\n",
    "from PIL import Image\n",
    "import torch.nn as nn\n",
    "import numpy as np\n",
    "from utils.aftertreatment import StrLabelConverter\n",
    "from utils.fileoperation import get_figure\n",
    "\n",
    "device = torch.device('cuda' if torch.cuda.is_available() else 'cpu')\n",
    "file_path='./weights/drnet_v3.pt'\n",
    "chinese = get_figure('./config/figure.txt')\n",
    "converter = StrLabelConverter(chinese)\n",
    "crnn=DRNet(32, 1, 11, 256).to(device)\n",
    "crnn.load_state_dict(torch.load(file_path))\n",
    "image_path = './img_crop/test.jpg'\n",
    "# 读取灰度图的图片\n",
    "image = Image.open(image_path).convert('L')\n",
    "# 对图片进行resize和归一化操作\n",
    "transform = ResizeAndNormalize((280, 32))\n",
    "image = transform(image).unsqueeze(0).to(device)\n",
    "batch_size=1\n",
    "#loader = DataLoader(dataset=image_path, batch_size=1)\n",
    "start = time.clock() #推理计时开始\n",
    "preds = crnn(image)\n",
    "end = time.clock()  #计时结束\n",
    "#preds_size = torch.IntTensor([preds.size(0)] * batch_size)\n",
    "\n",
    "y_hat = nn.functional.softmax(preds, 2).argmax(2).view(preds.size(0), -1)\n",
    "y_hat = torch.transpose(y_hat, 1, 0)\n",
    "y_hat = [converter.decode(i, torch.IntTensor([y_hat.size(1)])) for i in y_hat]\n",
    "print('pred:{}'.format(str(y_hat[0])))\n",
    "print('infer_time:', end-start)\n"
   ]
  },
  {
   "cell_type": "code",
   "execution_count": null,
   "metadata": {},
   "outputs": [],
   "source": [
    "# -*- coding: utf-8 -*-\n",
    "\"\"\"\n",
    " @Time       : 2019/12/9 9:52\n",
    " @Author     : Zhen Qi\n",
    " @Email      : qizhen816@163.com\n",
    " @File       : rotate_api.py\n",
    " @Description: find rotate angle of a text-contained image\n",
    "\"\"\"\n",
    "\n",
    "import cv2\n",
    "import numpy as np\n",
    "\n",
    "def rotate_bound(image, angle):\n",
    "    # 获取宽高\n",
    "    (h, w) = image.shape[:2]\n",
    "    (cX, cY) = (w // 2, h // 2)\n",
    "    M = cv2.getRotationMatrix2D((cX, cY), angle, 1.0)\n",
    "    img = cv2.warpAffine(image, M, (w, h))\n",
    "    return img\n",
    "\n",
    "def rotate_points(points, angle, cX, cY):\n",
    "    M = cv2.getRotationMatrix2D((cX, cY), angle, 1.0).astype(np.float16)\n",
    "    a = M[:, :2]\n",
    "    b = M[:, 2:]\n",
    "    b = np.reshape(b, newshape=(1, 2))\n",
    "    a = np.transpose(a)\n",
    "    points = np.dot(points, a) + b\n",
    "    points = points.astype(np.int)\n",
    "    return points\n",
    "\n",
    "\n",
    "def findangle(_image):\n",
    "   # 用来寻找当前图片文本的旋转角度 在±90度之间\n",
    "    # toWidth: 特征图大小：越小越快 但是效果会变差\n",
    "    # minCenterDistance：每个连通区域坐上右下点的索引坐标与其质心的距离阈值 大于该阈值的区域被置0\n",
    "    # angleThres：遍历角度 [-angleThres~angleThres]\n",
    "\n",
    "    toWidth = _image.shape[1]//2 #500\n",
    "    minCenterDistance = toWidth/20 #10\n",
    "    angleThres = 45\n",
    "\n",
    "    image = _image.copy()\n",
    "    h, w = image.shape[0:2]\n",
    "    if w > h:\n",
    "        maskW = toWidth\n",
    "        maskH = int(toWidth / w * h)\n",
    "    else:\n",
    "        maskH = toWidth\n",
    "        maskW = int(toWidth / h * w)\n",
    "    # 使用黑色填充图片区域\n",
    "    swapImage = cv2.resize(image, (maskW, maskH))\n",
    "    grayImage = cv2.cvtColor(swapImage, cv2.COLOR_BGR2GRAY)\n",
    "    gaussianBlurImage = cv2.GaussianBlur(grayImage, (3, 3), 0, 0)\n",
    "    histImage = cv2.equalizeHist(~gaussianBlurImage)\n",
    "    binaryImage = cv2.adaptiveThreshold(histImage, 1, cv2.ADAPTIVE_THRESH_GAUSSIAN_C, cv2.THRESH_BINARY, 15, -2)\n",
    "    \n",
    "    # pointsNum: 遍历角度时计算的关键点数量 越多越慢 建议[5000,50000]之中\n",
    "    pointsNum = np.sum(binaryImage!=0)//2\n",
    "\n",
    "    # # 使用最小外接矩形返回的角度作为旋转角度\n",
    "    # # >>一步到位 不用遍历\n",
    "    # # >>如果输入的图像切割不好 很容易受干扰返回0度\n",
    "    # element = cv2.getStructuringElement(cv2.MORPH_RECT, (5, 5))\n",
    "    # dilated = cv2.dilate(binaryImage*255, element)\n",
    "    # dilated = np.pad(dilated,((50,50),(50,50)),mode='constant')\n",
    "    # cv2.imshow('dilated', dilated)\n",
    "    # coords = np.column_stack(np.where(dilated > 0))\n",
    "    # angle = cv2.minAreaRect(coords)\n",
    "    # print(angle)\n",
    "\n",
    "    # 使用连接组件寻找并删除边框线条\n",
    "    # >>速度比霍夫变换快5~10倍 25ms左右\n",
    "    # >>计算每个连通区域坐上右下点的索引坐标与其质心的距离，距离大的即为线条\n",
    "    connectivity = 8\n",
    "    num_labels, labels, stats, centroids = cv2.connectedComponentsWithStats(binaryImage, connectivity, cv2.CV_8U)\n",
    "    labels = np.array(labels)\n",
    "    maxnum = [(i, stats[i][-1], centroids[i]) for i in range(len(stats))]\n",
    "    maxnum = sorted(maxnum, key=lambda s: s[1], reverse=True)\n",
    "    if len(maxnum) <= 1:\n",
    "        return 0\n",
    "    for i, (label, count, centroid) in enumerate(maxnum[1:]):\n",
    "        cood = np.array(np.where(labels == label))\n",
    "        distance1 = np.linalg.norm(cood[:,0]-centroid[::-1])\n",
    "        distance2 = np.linalg.norm(cood[:,-1]-centroid[::-1])\n",
    "        if distance1 > minCenterDistance or distance2 > minCenterDistance:\n",
    "            binaryImage[labels == label] = 0\n",
    "        else:\n",
    "            break\n",
    "    cv2.imshow('after process', binaryImage*255)\n",
    "\n",
    "    minRotate = 0\n",
    "    minCount = -1\n",
    "    (cX, cY) = (maskW // 2, maskH // 2)\n",
    "    points = np.column_stack(np.where(binaryImage > 0))[:pointsNum].astype(np.int16)\n",
    "    for rotate in range(-angleThres, angleThres):\n",
    "        rotatePoints = rotate_points(points, rotate, cX, cY)\n",
    "        rotatePoints = np.clip(rotatePoints[:,0], 0, maskH-1)\n",
    "        hist, bins = np.histogram(rotatePoints, maskH, [0, maskH])\n",
    "        # 横向统计非零元素个数 越少则说明姿态越正\n",
    "        zeroCount = np.sum(hist > toWidth/50)\n",
    "        if zeroCount <= minCount or minCount == -1:\n",
    "            minCount = zeroCount\n",
    "            minRotate = rotate\n",
    "\n",
    "    # print(\"over: rotate = \", minRotate)\n",
    "    return minRotate\n",
    "\n",
    "if __name__ == '__main__':\n",
    "    import time\n",
    "    Path = './img_crop/000001.jpg'\n",
    "    cv_img = cv2.imdecode(np.fromfile(Path, dtype=np.uint8), -1)\n",
    "    cv_img = cv2.cvtColor(cv_img, cv2.COLOR_RGB2BGR)\n",
    "\n",
    "    for agl in range(-60, 60):\n",
    "        img = cv_img.copy()\n",
    "        img = rotate_bound(img, agl)\n",
    "        cv2.imshow('rotate', img)\n",
    "        t = time.time()\n",
    "        angle = findangle(img)\n",
    "        print(agl,angle,time.time()-t)\n",
    "        img = rotate_bound(img, -angle)\n",
    "        cv2.imshow('after', img)\n",
    "        cv2.waitKey(200)\n"
   ]
  },
  {
   "cell_type": "code",
   "execution_count": 26,
   "metadata": {},
   "outputs": [
    {
     "data": {
      "text/plain": [
       "'0.510'"
      ]
     },
     "execution_count": 26,
     "metadata": {},
     "output_type": "execute_result"
    }
   ],
   "source": [
    "rec_result= '0510'\n",
    "A= list(rec_result) # 转化\n",
    "A.insert(-3, '.') # 注意不用重新赋值\n",
    "rec_result=''.join(A) # 转化回来\n",
    "rec_result"
   ]
  }
 ],
 "metadata": {
  "kernelspec": {
   "display_name": "Xiaoyao",
   "language": "python",
   "name": "python3"
  },
  "language_info": {
   "codemirror_mode": {
    "name": "ipython",
    "version": 3
   },
   "file_extension": ".py",
   "mimetype": "text/x-python",
   "name": "python",
   "nbconvert_exporter": "python",
   "pygments_lexer": "ipython3",
   "version": "3.8.13"
  },
  "orig_nbformat": 4
 },
 "nbformat": 4,
 "nbformat_minor": 2
}
